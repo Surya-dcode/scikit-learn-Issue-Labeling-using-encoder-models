{
 "cells": [
  {
   "cell_type": "markdown",
   "metadata": {},
   "source": [
    "# Scikit-learn Issue Classification - Data Exploration\n",
    "\n",
    "This notebook explores the collected GitHub issues data."
   ]
  },
  {
   "cell_type": "code",
   "execution_count": null,
   "metadata": {},
   "outputs": [],
   "source": [
    "import pandas as pd\n",
    "import json\n",
    "import matplotlib.pyplot as plt\n",
    "import seaborn as sns\n",
    "from collections import Counter\n",
    "\n",
    "# Load data\n",
    "# Replace with your actual data file\n",
    "# with open('../data/sklearn_issues_final_YYYYMMDD_HHMMSS.json', 'r') as f:\n",
    "#     issues = json.load(f)\n",
    "\n",
    "print(\"Ready to explore data!\")\n",
    "print(\"Update the file path above to load your collected data.\")"
   ]
  }
 ],
 "metadata": {
  "kernelspec": {
   "display_name": "Python 3",
   "language": "python",
   "name": "python3"
  },
  "language_info": {
   "codemirror_mode": {
    "name": "ipython",
    "version": 3
   },
   "file_extension": ".py",
   "mimetype": "text/x-python",
   "name": "python",
   "nbconvert_exporter": "python",
   "pygments_lexer": "ipython3",
   "version": "3.8.0"
  }
 },
 "nbformat": 4,
 "nbformat_minor": 4
}
